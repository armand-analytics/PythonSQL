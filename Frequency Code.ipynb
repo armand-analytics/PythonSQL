{
 "cells": [
  {
   "cell_type": "code",
   "execution_count": null,
   "id": "20056889",
   "metadata": {
    "ExecuteTime": {
     "end_time": "2023-11-15T12:29:18.565209Z",
     "start_time": "2023-11-15T12:28:40.718301Z"
    }
   },
   "outputs": [],
   "source": [
    "# This Code was created to obtain the frequency by customers for a random table in excel\n",
    "import pandas as pd\n",
    "\n",
    "file=pd.read_excel(r\"C:\\Users\\artadeo\\Downloads\\3.xlsx\")\n",
    "\n",
    "file['CREATE_DATE'] = pd.to_datetime(file['CREATE_DATE'])\n",
    "\n",
    "df_sorted = file.sort_values(by=['NAME','CREATE_DATE'], ascending=True)\n",
    "df_sorted['diff'] = df_sorted.groupby(NAME\")['CREATE_DATE'].diff()\n",
    "df_sorted2= df_sorted[pd.notnull(df_sorted['diff'])]\n",
    "df_sorted2 = df_sorted2.groupby('NAME')['diff'].mean()\n",
    "df_sortedT = pd.merge(df_sorted,df_sorted2, on='NAME',how='left')\n",
    "del df_sorted\n",
    "del df_sorted2\n",
    "del file\n",
    "df_sortedT=df_sortedT.rename(columns={'diff_y':'mean'})\n",
    "df_sortedT.to_csv('3Transformed.csv')\n",
    "df_sortedT"
   ]
  },
  {
   "cell_type": "code",
   "execution_count": null,
   "id": "31f1434a",
   "metadata": {
    "ExecuteTime": {
     "end_time": "2023-11-15T13:15:19.062972Z",
     "start_time": "2023-11-15T13:15:19.033786Z"
    }
   },
   "outputs": [],
   "source": [
    "length = len(df_sortedT) // 7\n",
    "# Div7 parts\n",
    "part1 = df_sortedT.iloc[:length]\n",
    "part2 = df_sortedT.iloc[length:2*length]\n",
    "part3 = df_sortedT.iloc[2*length:3*length]\n",
    "part4 = df_sortedT.iloc[3*length:4*length]\n",
    "part5 = df_sortedT.iloc[4*length:5*length]\n",
    "part6 = df_sortedT.iloc[5*length:6*length]\n",
    "part7 = df_sortedT.iloc[6*length:]\n",
    "#  CSV\n",
    "part1.to_csv('part1.csv', index=False)\n",
    "part2.to_csv('part2.csv', index=False)\n",
    "part3.to_csv('part3.csv', index=False)\n",
    "part4.to_csv('part4.csv', index=False)\n",
    "part5.to_csv('part5.csv', index=False)\n",
    "part6.to_csv('part6.csv', index=False)\n",
    "part7.to_csv('part7.csv', index=False)"
   ]
  }
 ],
 "metadata": {
  "kernelspec": {
   "display_name": "Python 3 (ipykernel)",
   "language": "python",
   "name": "python3"
  },
  "language_info": {
   "codemirror_mode": {
    "name": "ipython",
    "version": 3
   },
   "file_extension": ".py",
   "mimetype": "text/x-python",
   "name": "python",
   "nbconvert_exporter": "python",
   "pygments_lexer": "ipython3",
   "version": "3.9.13"
  },
  "varInspector": {
   "cols": {
    "lenName": 16,
    "lenType": 16,
    "lenVar": 40
   },
   "kernels_config": {
    "python": {
     "delete_cmd_postfix": "",
     "delete_cmd_prefix": "del ",
     "library": "var_list.py",
     "varRefreshCmd": "print(var_dic_list())"
    },
    "r": {
     "delete_cmd_postfix": ") ",
     "delete_cmd_prefix": "rm(",
     "library": "var_list.r",
     "varRefreshCmd": "cat(var_dic_list()) "
    }
   },
   "types_to_exclude": [
    "module",
    "function",
    "builtin_function_or_method",
    "instance",
    "_Feature"
   ],
   "window_display": false
  }
 },
 "nbformat": 4,
 "nbformat_minor": 5
}
