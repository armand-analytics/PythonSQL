{
 "cells": [
  {
   "cell_type": "code",
   "execution_count": null,
   "id": "9cb2d532",
   "metadata": {
    "ExecuteTime": {
     "end_time": "2023-12-20T21:40:17.537312Z",
     "start_time": "2023-12-20T21:40:16.193753Z"
    }
   },
   "outputs": [],
   "source": [
    "# this code is a example on how to cxonnect to hanna SAP and exract data as well as to transform it as you need using pandas\n",
    "#  from IPython.core.display import display, HTML\n",
    "\n",
    "# display(HTML('<style>.container {width: 100% !important}</style>'))\n",
    "from os import getcwd\n",
    "# import pyodbc\n",
    "import pandas as pd\n",
    "import numpy as np\n",
    "# import jaydebeapi\n",
    "# import pyhdb\n",
    "from hdbcli import dbapi\n",
    "import time\n",
    "import os\n",
    "import glob\n",
    "import itertools\n",
    "os.chdir(r\"C:\\Users\\Penetration Analysis\\Automated\")\n",
    "#Connection string \n",
    "\n",
    "conn = dbapi.connect(\n",
    "    address=\"some-hana-address\", \n",
    "    port=30015, \n",
    "    user=\"user\",\n",
    "    password=\"pass\", \n",
    "    db='_SYS_BIC'\n",
    ")\n",
    "conn\n"
   ]
  },
  {
   "cell_type": "code",
   "execution_count": null,
   "id": "c3005030",
   "metadata": {
    "ExecuteTime": {
     "end_time": "2023-12-20T21:52:02.057823Z",
     "start_time": "2023-12-20T21:49:14.721758Z"
    },
    "scrolled": true
   },
   "outputs": [],
   "source": [
    "#Calling sql query \n",
    "var-LCS =pd.read_sql('''\n",
    "select distinct \n",
    "*\n",
    "from  \"_SYS_BIC\".theaddressofthe.table\"\n",
    "where \n",
    "prod1 in ('L')\n",
    ";''', conn)\n",
    "\n",
    "Nonvar-LCS=pd.read_sql('''\n",
    "    select \n",
    "    *\n",
    "    FROM \"_SYS_BIC\".theOtheraddressofthe.table\"/T\"\n",
    "    where\n",
    "    reg in ('Ame')\n",
    "    AND (YEAR BETWEEN 2015 AND 2020)\n",
    "    AND FISCAL_Q in ('20243','20244','20251','20252', '20253','20254', '20261', '20262', '20263', '20264' ) -- next 2 yrs \n",
    "    AND STATUS='Latest'\n",
    "    AND PRICE > 0\n",
    " group by\n",
    "    1,2,3,4,5,6,7,8,9\n",
    "    --limit 100\n",
    "     ;''', conn)\n",
    "\n",
    "NonLcs=NonLcs.drop_duplicates()\n",
    "PENTABLE=pd.concat([LS, NonLcs])\n",
    "PENTABLE=PENTABLE.fillna(0)\n",
    "del LCS\n",
    "del NonLcs\n",
    "PENTABLE.to_csv('PENTABLE.csv', index=False)\n",
    "PENTABLE"
   ]
  },
  {
   "cell_type": "code",
   "execution_count": null,
   "id": "faa886c5",
   "metadata": {
    "ExecuteTime": {
     "end_time": "2023-11-23T02:02:44.181625Z",
     "start_time": "2023-11-23T02:02:44.173976Z"
    }
   },
   "outputs": [],
   "source": [
    "MPTBLre[' Name'].unique()"
   ]
  },
  {
   "cell_type": "code",
   "execution_count": null,
   "id": "7ce317e7",
   "metadata": {
    "ExecuteTime": {
     "end_time": "2023-11-24T01:11:41.452472Z",
     "start_time": "2023-11-24T01:11:41.435088Z"
    }
   },
   "outputs": [],
   "source": [
    " X=pd.merge(PENTABLE, MPTBLre[' SALES GROUP ', 'group'], left_on='clave1', right_on='clave2', how='inner')"
   ]
  },
  {
   "cell_type": "code",
   "execution_count": null,
   "id": "029237c5",
   "metadata": {
    "ExecuteTime": {
     "end_time": "2023-02-03T21:08:56.762079Z",
     "start_time": "2023-02-03T21:02:35.269333Z"
    }
   },
   "outputs": [],
   "source": [
    "\n",
    "PENTABLE=PENTABLE.drop(columns=['Unnamed: 0'])\n",
    "\n",
    "#calling the true mapping table \n",
    "truemapping=pd.read_csv(r\"C:\\Users\\TrueMappingMethodebased.csv\"\n",
    "                        ,encoding='latin-1')\n",
    "\n",
    "\n",
    "#new array called sub to automate the multiple merges in a for loop\n",
    "\n",
    "sub=['SL3','SL4','SL5','SL6']\n",
    "for x in sub:\n",
    "            PENTABLE= pd.merge(PENTABLE,truemapping, how='left',\n",
    "                     left_on=[x], right_on=['Key']\n",
    "                   )\n",
    "\n",
    "        \n",
    "#replacing the automatic writed names for names with subindex from 3-6         \n",
    "        \n",
    "count = itertools.count(3)\n",
    "new_cols = [f\"CV_x\" if col == \"CV_y\" else col for col in PENTABLE.columns]\n",
    "PENTABLE.columns = new_cols\n",
    "\n",
    "count = itertools.count(3)\n",
    "new_cols = [f\"CV_x{next(count)}\" if col == \"CV_x\" else col for col in PENTABLE.columns]\n",
    "PENTABLE.columns = new_cols\n",
    "\n",
    "PENTABLE=PENTABLE.drop(['Key_x'], axis=1)\n",
    "PENTABLE=PENTABLE.drop(['Key_y'], axis=1)\n",
    "\n",
    "\n",
    "PENTABLE= pd.merge(PENTABLE,truemapping, how='left',\n",
    "                     left_on=['GROUP'], right_on=['Key']\n",
    "                   )\n",
    "PENTABLE=PENTABLE.drop(['Key'], axis=1)\n",
    "\n",
    "\n",
    "\n",
    "\n",
    "#the CSAV translation compLete***\n",
    "\n",
    "\n",
    "\n",
    "\n",
    "PENTABLE['CV0'] = PENTABLE.apply(lambda row:\n",
    "                                      row['CV_x3'] if pd.notnull(row['CV_x3']) else\n",
    "                                      (row['CV_x4'] if pd.notnull(row['CV_x4']) else\n",
    "                                      (row['CV_x5'] if pd.notnull(row['CV_x5']) else\n",
    "                                      (row['CV_x6'] if pd.notnull(row['CV_x6']) else\n",
    "                                       row['CV']\n",
    "                                          )\n",
    "                                          )\n",
    "                                          ), axis=1)\n",
    "\n",
    "\n",
    "\n",
    "ELMT=pd.read_csv(r\"C:\\Users\\T.csv\",encoding='latin-1')\n",
    "ELMT.drop_duplicates(subset=['GROUP'], keep='first', inplace=True, ignore_index=True)\n",
    "\n",
    "\n",
    "#new variable after merge\n",
    "PENTABLE1= pd.merge(PENTABLE,ELMT, how='left',\n",
    "                     left_on=['CV0'], right_on=['NAME']\n",
    "\n",
    "                   )\n",
    "\n",
    "\n",
    "#new filter by PKM\n",
    "\n",
    "list=['P','K','M']\n",
    "PENTABLE1=PENTABLE1[PENTABLE1.Tier.isin(list)]\n",
    "\n",
    "\n",
    "#droping not deeded variables and tables\n",
    "\n",
    "\n",
    "PENTABLE1.to_csv('PKM.csv')\n",
    "\n",
    "fin = time.time()\n",
    "print(fin-inicio)\n",
    "PENTABLE1"
   ]
  }
 ],
 "metadata": {
  "kernelspec": {
   "display_name": "Python 3 (ipykernel)",
   "language": "python",
   "name": "python3"
  },
  "language_info": {
   "codemirror_mode": {
    "name": "ipython",
    "version": 3
   },
   "file_extension": ".py",
   "mimetype": "text/x-python",
   "name": "python",
   "nbconvert_exporter": "python",
   "pygments_lexer": "ipython3",
   "version": "3.11.3"
  },
  "varInspector": {
   "cols": {
    "lenName": 16,
    "lenType": 16,
    "lenVar": 40
   },
   "kernels_config": {
    "python": {
     "delete_cmd_postfix": "",
     "delete_cmd_prefix": "del ",
     "library": "var_list.py",
     "varRefreshCmd": "print(var_dic_list())"
    },
    "r": {
     "delete_cmd_postfix": ") ",
     "delete_cmd_prefix": "rm(",
     "library": "var_list.r",
     "varRefreshCmd": "cat(var_dic_list()) "
    }
   },
   "position": {
    "height": "200.297px",
    "left": "1253.3px",
    "right": "20px",
    "top": "64.9844px",
    "width": "637.922px"
   },
   "types_to_exclude": [
    "module",
    "function",
    "builtin_function_or_method",
    "instance",
    "_Feature"
   ],
   "window_display": true
  }
 },
 "nbformat": 4,
 "nbformat_minor": 5
}
